{
 "cells": [
  {
   "cell_type": "code",
   "execution_count": 1,
   "id": "e289e7b4",
   "metadata": {},
   "outputs": [],
   "source": [
    "#What is the purpose of the len() function in Python, and how can it be used with strings?"
   ]
  },
  {
   "cell_type": "code",
   "execution_count": 2,
   "id": "eb784cb2",
   "metadata": {},
   "outputs": [
    {
     "data": {
      "text/plain": [
       "6"
      ]
     },
     "execution_count": 2,
     "metadata": {},
     "output_type": "execute_result"
    }
   ],
   "source": [
    "#The purpose of length function is to find a length of data tyes like string, tuples, list.\n",
    "#Use example: Suppose if i need to find a length of string \"Pranay\". How many letter a \"pranay\" word contain.\n",
    "x = \"Pranay\"\n",
    "len(x)  "
   ]
  },
  {
   "cell_type": "code",
   "execution_count": 3,
   "id": "0a8c5d32",
   "metadata": {},
   "outputs": [],
   "source": [
    "#How can you concatenate two or more strings in Python, and can you provide an example of string \n",
    "#concatenation?"
   ]
  },
  {
   "cell_type": "code",
   "execution_count": 5,
   "id": "c7cb62d5",
   "metadata": {},
   "outputs": [
    {
     "name": "stdout",
     "output_type": "stream",
     "text": [
      "Pranay Kumar is best\n",
      "Pranay is best\n"
     ]
    }
   ],
   "source": [
    "#Concatenation of string can be done in two ways: 1. Directly print the variable containg string in it by using print statement. 2. Use of \"+\" sign in order to join two or more strings or any external character in between the string to forma a sentence or a group of word.\n",
    "a = \"Pranay\"\n",
    "b = \"Kumar\"\n",
    "c = \"is best\"\n",
    "print(a,b,c)\n",
    "print(a+\" \"+c)"
   ]
  },
  {
   "cell_type": "code",
   "execution_count": 6,
   "id": "cc23b52c",
   "metadata": {},
   "outputs": [],
   "source": [
    "#What is string slicing in Python, and how can you extract a portion of a string using this method?"
   ]
  },
  {
   "cell_type": "code",
   "execution_count": 7,
   "id": "90f8bcdc",
   "metadata": {},
   "outputs": [
    {
     "name": "stdout",
     "output_type": "stream",
     "text": [
      "an\n"
     ]
    }
   ],
   "source": [
    "#String slicing is used to extract a letter from string. It applies to data types like string, int, list, tuple or dict.\n",
    "#To extract a portion of of string \"[]\" is used with variable name. And it calculates the position starting from count 0 and can be written by giving start and stop. start from 1 to n its takes n-1 postion at last.\n",
    "#for ex:\n",
    "A = \"pranay\"\n",
    "print(A[2:4])\n"
   ]
  },
  {
   "cell_type": "code",
   "execution_count": 8,
   "id": "bffc78b4",
   "metadata": {},
   "outputs": [],
   "source": [
    "#How can you change the case of a string in Python, and can you provide examples of both making a string \n",
    "#all uppercase and all lowercase?"
   ]
  },
  {
   "cell_type": "code",
   "execution_count": 9,
   "id": "b6944e93",
   "metadata": {},
   "outputs": [
    {
     "name": "stdout",
     "output_type": "stream",
     "text": [
      "UPPER\n",
      "lower\n"
     ]
    }
   ],
   "source": [
    "#To change the case of a string, python have a built in functions like upper(),lower().\n",
    "A=\"Upper\"\n",
    "B = \"Lower\"\n",
    "print(A.upper())\n",
    "print(B.lower())"
   ]
  },
  {
   "cell_type": "code",
   "execution_count": 10,
   "id": "352bc98b",
   "metadata": {},
   "outputs": [],
   "source": [
    "#What does the split() method do in Python, and how can you split a string using a specific delimiter?"
   ]
  },
  {
   "cell_type": "code",
   "execution_count": 11,
   "id": "75097c8d",
   "metadata": {},
   "outputs": [
    {
     "name": "stdout",
     "output_type": "stream",
     "text": [
      "['Pranay', 'is', 'Data', 'Analyst', 'and', 'currently', 'learning', 'Data', 'Science', 'to', 'Upgrade', 'in', 'Carrier']\n",
      "['Pranay is', ' Data Analyst and ', 'currently learning Data Science to Upgrade ', 'in Carrier']\n"
     ]
    }
   ],
   "source": [
    "#Split method is used to split a string into a list based on a delimeter.\n",
    "A = \"Pranay is Data Analyst and currently learning Data Science to Upgrade in Carrier\"\n",
    "print(A.split())\n",
    "B = \"Pranay is# Data Analyst and #currently learning Data Science to Upgrade #in Carrier\"\n",
    "print(B.split(\"#\"))"
   ]
  },
  {
   "cell_type": "code",
   "execution_count": null,
   "id": "dc47e747",
   "metadata": {},
   "outputs": [],
   "source": []
  }
 ],
 "metadata": {
  "kernelspec": {
   "display_name": "Python 3 (ipykernel)",
   "language": "python",
   "name": "python3"
  },
  "language_info": {
   "codemirror_mode": {
    "name": "ipython",
    "version": 3
   },
   "file_extension": ".py",
   "mimetype": "text/x-python",
   "name": "python",
   "nbconvert_exporter": "python",
   "pygments_lexer": "ipython3",
   "version": "3.11.5"
  }
 },
 "nbformat": 4,
 "nbformat_minor": 5
}
